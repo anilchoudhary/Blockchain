{
 "cells": [
  {
   "cell_type": "code",
   "execution_count": 1,
   "metadata": {},
   "outputs": [
    {
     "name": "stdout",
     "output_type": "stream",
     "text": [
      "Collecting dict_hash\n",
      "  Downloading dict_hash-1.1.14.tar.gz (5.2 kB)\n",
      "Collecting deflate_dict>=1.0.8\n",
      "  Downloading deflate_dict-1.0.8.tar.gz (4.8 kB)\n",
      "Building wheels for collected packages: dict-hash, deflate-dict\n",
      "  Building wheel for dict-hash (setup.py): started\n",
      "  Building wheel for dict-hash (setup.py): finished with status 'done'\n",
      "  Created wheel for dict-hash: filename=dict_hash-1.1.14-py3-none-any.whl size=5711 sha256=1c01b91259c96507e7b56bcb707f87c5225f8cfee49dc5c515e5421426256522\n",
      "  Stored in directory: c:\\users\\anil choudhary\\appdata\\local\\pip\\cache\\wheels\\6e\\64\\35\\7277e9cd824ba8dda486ea26707bd09bcd36a908d90b7c2cd4\n",
      "  Building wheel for deflate-dict (setup.py): started\n",
      "  Building wheel for deflate-dict (setup.py): finished with status 'done'\n",
      "  Created wheel for deflate-dict: filename=deflate_dict-1.0.8-py3-none-any.whl size=6309 sha256=0199da1e71ee37d9ade21080a73db547f642e08d7f46cf62fc6a2983629a52d1\n",
      "  Stored in directory: c:\\users\\anil choudhary\\appdata\\local\\pip\\cache\\wheels\\63\\01\\a3\\d6b7cfd81143da2e073df4fd276ebfe09f0a62663c39c823b5\n",
      "Successfully built dict-hash deflate-dict\n",
      "Installing collected packages: deflate-dict, dict-hash\n",
      "Successfully installed deflate-dict-1.0.8 dict-hash-1.1.14\n"
     ]
    }
   ],
   "source": [
    "! pip install dict_hash"
   ]
  },
  {
   "cell_type": "code",
   "execution_count": 6,
   "metadata": {},
   "outputs": [
    {
     "name": "stdout",
     "output_type": "stream",
     "text": [
      "33329\n"
     ]
    }
   ],
   "source": [
    "from IPython.display import clear_output\n",
    "from dict_hash import sha256\n",
    "import time\n",
    "\n",
    "dit = {}\n",
    "dit[\"Block Number\"] = 1\n",
    "dit[\"Trxns\"] = \"Record1 Record2 Record3 Record4 Record5 Record6 Record7 Record8 Record9 Record10\"\n",
    "dit[\"nonce\"] = 0\n",
    "dit[\"previousHash\"] = \"\"\n",
    "\n",
    "def mineBlock(ditBlock):\n",
    "    flag = True\n",
    "    nonce = 0\n",
    "    start = time.time()\n",
    "    while flag:\n",
    "        dit[\"nonce\"] = nonce\n",
    "        hsh = sha256(ditBlock)\n",
    "        pos1 = hsh[0]\n",
    "        pos2 = hsh[1]\n",
    "        pos3 = hsh[2]\n",
    "        pos4 = hsh[3]\n",
    "        pos5 = hsh[4]\n",
    "\n",
    "        if pos1 == '0' and pos2 == \"0\" and pos3 == \"0\" and pos4 == \"0\"  :\n",
    "            flag = False\n",
    "            dit[\"hash\"] = hsh\n",
    "            print(ditBlock)\n",
    "            end = time.time()\n",
    "            print(f\"Runtime of the program is {end - start}\")\n",
    "        else:\n",
    "            print(nonce)\n",
    "            clear_output(wait=True)\n",
    "            nonce = nonce + 1\n",
    "    print(nonce)\n",
    "            \n",
    "dit[\"hash\"] = sha256(dit)\n",
    "dit\n",
    "\n",
    "mineBlock(dit)"
   ]
  }
 ],
 "metadata": {
  "kernelspec": {
   "display_name": "Python 3",
   "language": "python",
   "name": "python3"
  },
  "language_info": {
   "codemirror_mode": {
    "name": "ipython",
    "version": 3
   },
   "file_extension": ".py",
   "mimetype": "text/x-python",
   "name": "python",
   "nbconvert_exporter": "python",
   "pygments_lexer": "ipython3",
   "version": "3.8.3"
  }
 },
 "nbformat": 4,
 "nbformat_minor": 4
}
